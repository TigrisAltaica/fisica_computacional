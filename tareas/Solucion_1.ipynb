{
 "metadata": {
  "language": "Julia",
  "name": ""
 },
 "nbformat": 3,
 "nbformat_minor": 0,
 "worksheets": [
  {
   "cells": [
    {
     "cell_type": "heading",
     "level": 1,
     "metadata": {},
     "source": [
      "Tarea #1"
     ]
    },
    {
     "cell_type": "raw",
     "metadata": {},
     "source": [
      "Problema 1)"
     ]
    },
    {
     "cell_type": "code",
     "collapsed": false,
     "input": [
      "#No encuentro como hacer que funcione\n",
      "\n",
      "function mi_sin(x,n)\n",
      "\n",
      "    if(n>0)\n",
      "       +((-1)^(n))*mi_sin(x^(2n+1),n-1)/factorial(2*n+1)        \n",
      "    else\n",
      "      x\n",
      "    end\n",
      "end"
     ],
     "language": "python",
     "metadata": {},
     "outputs": [
      {
       "metadata": {},
       "output_type": "pyout",
       "prompt_number": 164,
       "text": [
        "mi_sin (generic function with 1 method)"
       ]
      }
     ],
     "prompt_number": 164
    },
    {
     "cell_type": "code",
     "collapsed": false,
     "input": [
      "mi_sin(pi,3)"
     ],
     "language": "python",
     "metadata": {},
     "outputs": [
      {
       "metadata": {},
       "output_type": "pyout",
       "prompt_number": 166,
       "text": [
        "4.3749550977235895e45"
       ]
      }
     ],
     "prompt_number": 166
    },
    {
     "cell_type": "code",
     "collapsed": false,
     "input": [
      "sin(1)"
     ],
     "language": "python",
     "metadata": {},
     "outputs": [
      {
       "metadata": {},
       "output_type": "pyout",
       "prompt_number": 106,
       "text": [
        "0.8414709848078965"
       ]
      }
     ],
     "prompt_number": 106
    },
    {
     "cell_type": "markdown",
     "metadata": {},
     "source": [
      "Problema 2)"
     ]
    },
    {
     "cell_type": "code",
     "collapsed": false,
     "input": [],
     "language": "python",
     "metadata": {},
     "outputs": [
      {
       "metadata": {},
       "output_type": "pyout",
       "prompt_number": 118,
       "text": [
        "10-element Array{Float64,1}:\n",
        " 1.0        \n",
        " 0.5        \n",
        " 0.166667   \n",
        " 0.0416667  \n",
        " 0.00833333 \n",
        " 0.00138889 \n",
        " 0.000198413\n",
        " 2.48016e-5 \n",
        " 2.75573e-6 \n",
        " 2.75573e-7 "
       ]
      }
     ],
     "prompt_number": 118
    },
    {
     "cell_type": "code",
     "collapsed": false,
     "input": [
      "#Creo un arreglo con los coeficientes de la expansion de Taylor y regreso la suma\n",
      "\n",
      "function exp_array(x)\n",
      "    c = [(1/factorial(i))*x^i for i in 0:20]\n",
      "    sum(c)\n",
      "end"
     ],
     "language": "python",
     "metadata": {},
     "outputs": [
      {
       "metadata": {},
       "output_type": "pyout",
       "prompt_number": 138,
       "text": [
        "exp_array (generic function with 1 method)"
       ]
      }
     ],
     "prompt_number": 138
    },
    {
     "cell_type": "code",
     "collapsed": false,
     "input": [
      "exp_array(2)-exp(2)"
     ],
     "language": "python",
     "metadata": {},
     "outputs": [
      {
       "metadata": {},
       "output_type": "pyout",
       "prompt_number": 143,
       "text": [
        "-4.529709940470639e-14"
       ]
      }
     ],
     "prompt_number": 143
    },
    {
     "cell_type": "markdown",
     "metadata": {},
     "source": [
      "Problema 3)"
     ]
    },
    {
     "cell_type": "code",
     "collapsed": false,
     "input": [
      "#Creo un arreglo con los coeficientes de la expansion de Taylor y regreso la suma\n",
      "\n",
      "function mi_sin2(x)\n",
      "    c = [(((-1)^i)/factorial(2*i+1))*x^(2*i+1) for i in 0:7]\n",
      "    sum(c)\n",
      "end"
     ],
     "language": "python",
     "metadata": {},
     "outputs": [
      {
       "metadata": {},
       "output_type": "pyout",
       "prompt_number": 197,
       "text": [
        "mi_sin2 (generic function with 1 method)"
       ]
      }
     ],
     "prompt_number": 197
    },
    {
     "cell_type": "code",
     "collapsed": false,
     "input": [
      "mi_sin2(1)"
     ],
     "language": "python",
     "metadata": {},
     "outputs": [
      {
       "metadata": {},
       "output_type": "pyout",
       "prompt_number": 159,
       "text": [
        "0.841470984648068"
       ]
      }
     ],
     "prompt_number": 159
    },
    {
     "cell_type": "raw",
     "metadata": {},
     "source": [
      "Problema 4)"
     ]
    },
    {
     "cell_type": "code",
     "collapsed": false,
     "input": [
      "#Despejo sin de la formula de euler\n",
      "\n",
      "function mi_sin3(x)\n",
      "    (exp(im*x)-cos(x))/im\n",
      "end\n",
      "    "
     ],
     "language": "python",
     "metadata": {},
     "outputs": [
      {
       "metadata": {},
       "output_type": "pyout",
       "prompt_number": 172,
       "text": [
        "mi_sin3 (generic function with 1 method)"
       ]
      }
     ],
     "prompt_number": 172
    },
    {
     "cell_type": "code",
     "collapsed": false,
     "input": [
      "mi_sin3(1)"
     ],
     "language": "python",
     "metadata": {},
     "outputs": [
      {
       "metadata": {},
       "output_type": "pyout",
       "prompt_number": 175,
       "text": [
        "0.8414709848078965 + 0.0im"
       ]
      }
     ],
     "prompt_number": 175
    },
    {
     "cell_type": "markdown",
     "metadata": {},
     "source": [
      "Problema 5)"
     ]
    },
    {
     "cell_type": "markdown",
     "metadata": {},
     "source": [
      "Todas las funciones funcionan igual que la de Julia al ingresar n\u00fameros imaginarios"
     ]
    },
    {
     "cell_type": "code",
     "collapsed": false,
     "input": [
      "mi_sin2(im)"
     ],
     "language": "python",
     "metadata": {},
     "outputs": [
      {
       "metadata": {},
       "output_type": "pyout",
       "prompt_number": 202,
       "text": [
        "0.0 + 1.1752011936437987im"
       ]
      }
     ],
     "prompt_number": 202
    },
    {
     "cell_type": "code",
     "collapsed": false,
     "input": [
      "mi_sin3(im)"
     ],
     "language": "python",
     "metadata": {},
     "outputs": [
      {
       "metadata": {},
       "output_type": "pyout",
       "prompt_number": 177,
       "text": [
        "0.0 + 1.1752011936438014im"
       ]
      }
     ],
     "prompt_number": 177
    },
    {
     "cell_type": "code",
     "collapsed": false,
     "input": [
      "sin(im)"
     ],
     "language": "python",
     "metadata": {},
     "outputs": [
      {
       "metadata": {},
       "output_type": "pyout",
       "prompt_number": 178,
       "text": [
        "0.0 + 1.1752011936438014im"
       ]
      }
     ],
     "prompt_number": 178
    },
    {
     "cell_type": "markdown",
     "metadata": {},
     "source": [
      "Problema 6)"
     ]
    },
    {
     "cell_type": "code",
     "collapsed": false,
     "input": [
      "#utilizo que sin\u00b2 + cos\u00b2 = 1 y aprovecho mis funciones anteriores"
     ],
     "language": "python",
     "metadata": {},
     "outputs": [],
     "prompt_number": 179
    },
    {
     "cell_type": "code",
     "collapsed": false,
     "input": [
      "function mi_cos(x)\n",
      "    sqrt(1-mi_sin2(x)^2)\n",
      "end"
     ],
     "language": "python",
     "metadata": {},
     "outputs": [
      {
       "metadata": {},
       "output_type": "pyout",
       "prompt_number": 180,
       "text": [
        "mi_cos (generic function with 1 method)"
       ]
      }
     ],
     "prompt_number": 180
    },
    {
     "cell_type": "code",
     "collapsed": false,
     "input": [
      "mi_cos(1)"
     ],
     "language": "python",
     "metadata": {},
     "outputs": [
      {
       "metadata": {},
       "output_type": "pyout",
       "prompt_number": 181,
       "text": [
        "0.5403023061170579"
       ]
      }
     ],
     "prompt_number": 181
    },
    {
     "cell_type": "code",
     "collapsed": false,
     "input": [
      "cos(1)"
     ],
     "language": "python",
     "metadata": {},
     "outputs": [
      {
       "metadata": {},
       "output_type": "pyout",
       "prompt_number": 182,
       "text": [
        "0.5403023058681398"
       ]
      }
     ],
     "prompt_number": 182
    },
    {
     "cell_type": "markdown",
     "metadata": {},
     "source": [
      "Problema 7)"
     ]
    },
    {
     "cell_type": "code",
     "collapsed": false,
     "input": [
      "abs(tan(1)-(mi_sin2(1)/mi_cos(1))) #tan = sin/cos"
     ],
     "language": "python",
     "metadata": {},
     "outputs": [
      {
       "metadata": {},
       "output_type": "pyout",
       "prompt_number": 187,
       "text": [
        "1.013313433162466e-9"
       ]
      }
     ],
     "prompt_number": 187
    },
    {
     "cell_type": "code",
     "collapsed": false,
     "input": [
      "abs(sec(1)-(1/mi_cos(1))) #sec = 1/cos"
     ],
     "language": "python",
     "metadata": {},
     "outputs": [
      {
       "metadata": {},
       "output_type": "pyout",
       "prompt_number": 189,
       "text": [
        "8.526737094172177e-10"
       ]
      }
     ],
     "prompt_number": 189
    },
    {
     "cell_type": "code",
     "collapsed": false,
     "input": [
      "abs(csc(1)-(1/mi_sin2(1))) #csc = 1/sin"
     ],
     "language": "python",
     "metadata": {},
     "outputs": [
      {
       "metadata": {},
       "output_type": "pyout",
       "prompt_number": 190,
       "text": [
        "2.2572299585021938e-10"
       ]
      }
     ],
     "prompt_number": 190
    },
    {
     "cell_type": "code",
     "collapsed": false,
     "input": [
      "abs(sin(pi)-(mi_sin2(pi)*mi_cos(0)+mi_sin2(0)*mi_cos(pi))) #seno de la suma de un angulo"
     ],
     "language": "python",
     "metadata": {},
     "outputs": [
      {
       "metadata": {},
       "output_type": "pyout",
       "prompt_number": 203,
       "text": [
        "7.727858895270317e-7"
       ]
      }
     ],
     "prompt_number": 203
    },
    {
     "cell_type": "code",
     "collapsed": false,
     "input": [
      "abs(mi_sin2(pi/2) - mi_cos(0)) #Desfazamiento de seno y coseno"
     ],
     "language": "python",
     "metadata": {},
     "outputs": [
      {
       "metadata": {},
       "output_type": "pyout",
       "prompt_number": 205,
       "text": [
        "6.023181953196399e-12"
       ]
      }
     ],
     "prompt_number": 205
    },
    {
     "cell_type": "code",
     "collapsed": false,
     "input": [],
     "language": "python",
     "metadata": {},
     "outputs": []
    }
   ],
   "metadata": {}
  }
 ]
}
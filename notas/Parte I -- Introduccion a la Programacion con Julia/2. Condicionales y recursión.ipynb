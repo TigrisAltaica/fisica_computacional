{
 "metadata": {
  "language": "Julia",
  "name": "",
  "signature": "sha256:42330924bdd23014f74963811643d0bff9cba9f5787655d601f7a3f79ff9d2af"
 },
 "nbformat": 3,
 "nbformat_minor": 0,
 "worksheets": [
  {
   "cells": [
    {
     "cell_type": "markdown",
     "metadata": {},
     "source": [
      "# 0. Rese\u00f1a de la clase pasada"
     ]
    },
    {
     "cell_type": "code",
     "collapsed": false,
     "input": [
      "vol_esfera(r) = (4/3)*pi*r^3"
     ],
     "language": "python",
     "metadata": {},
     "outputs": [
      {
       "metadata": {},
       "output_type": "pyout",
       "prompt_number": 2,
       "text": [
        "vol_esfera (generic function with 1 method)"
       ]
      }
     ],
     "prompt_number": 2
    },
    {
     "cell_type": "code",
     "collapsed": false,
     "input": [
      "vol_esfera(10)"
     ],
     "language": "python",
     "metadata": {},
     "outputs": [
      {
       "metadata": {},
       "output_type": "pyout",
       "prompt_number": 4,
       "text": [
        "4188.790204786391"
       ]
      }
     ],
     "prompt_number": 4
    },
    {
     "cell_type": "code",
     "collapsed": false,
     "input": [
      "function vol_cilindro(h,r)\n",
      "    2*pi*r^2*h\n",
      "end"
     ],
     "language": "python",
     "metadata": {},
     "outputs": [
      {
       "metadata": {},
       "output_type": "pyout",
       "prompt_number": 5,
       "text": [
        "vol_cilindro (generic function with 1 method)"
       ]
      }
     ],
     "prompt_number": 5
    },
    {
     "cell_type": "code",
     "collapsed": false,
     "input": [
      "vol_cilindro(10,.5)"
     ],
     "language": "python",
     "metadata": {},
     "outputs": [
      {
       "metadata": {},
       "output_type": "pyout",
       "prompt_number": 6,
       "text": [
        "15.707963267948966"
       ]
      }
     ],
     "prompt_number": 6
    },
    {
     "cell_type": "markdown",
     "metadata": {},
     "source": [
      "[1] Define una funci\u00f3n `vol_esfera` que acepta un radio y calcula el volumen de la esfera con ese radio.\n",
      "\n",
      "[2] Utiliza tu funci\u00f3n para calcular el volumen de la esfera con radio $\\rho = 10$\n",
      "\n",
      "[3] Define una funci\u00f3n `vol_cilindro` que calcula el volumen de un cilindro de radio $\\rho$ y altura $\\zeta$.\n",
      "\n",
      "[4] Calcula el volumen del cilindro con radio $\\rho = \\frac{1}{2}$ y altura $\\zeta = 10$."
     ]
    },
    {
     "cell_type": "heading",
     "level": 1,
     "metadata": {},
     "source": [
      "Condicionales"
     ]
    },
    {
     "cell_type": "markdown",
     "metadata": {},
     "source": [
      "Necesitamos poder verificar condiciones y hacer distintas cosas dependiendo de la respuesta.\n",
      "\n",
      "Primero, veamos las condiciones que podemos utilizar:"
     ]
    },
    {
     "cell_type": "code",
     "collapsed": false,
     "input": [
      "a=3"
     ],
     "language": "python",
     "metadata": {},
     "outputs": [
      {
       "metadata": {},
       "output_type": "pyout",
       "prompt_number": 8,
       "text": [
        "3"
       ]
      }
     ],
     "prompt_number": 8
    },
    {
     "cell_type": "code",
     "collapsed": false,
     "input": [
      "a<2||a>1"
     ],
     "language": "python",
     "metadata": {},
     "outputs": [
      {
       "metadata": {},
       "output_type": "pyout",
       "prompt_number": 16,
       "text": [
        "true"
       ]
      }
     ],
     "prompt_number": 16
    },
    {
     "cell_type": "markdown",
     "metadata": {},
     "source": [
      "[1] Define una variable `a` con el valor 3. \u00bfQu\u00e9 dice Julia si ponemos `a < 3`?  Y \u00bf`a >= 3`? \u00bfDe qu\u00e9 tipo es la respuesta?\n",
      "\n",
      "[2] Dos condiciones no tan evidentes son `a == 3` y `a != 3`. \u00bfQu\u00e9 es lo que checan?\n",
      "\n",
      "[3] Se pueden combinar condiciones con `&&` (\"y\") y `||` (\"o\"). Int\u00e9ntalo."
     ]
    },
    {
     "cell_type": "markdown",
     "metadata": {},
     "source": [
      "Ahora podemos utilizar estas condiciones en un `if`, que tiene la siguiente sintaxis:"
     ]
    },
    {
     "cell_type": "markdown",
     "metadata": {},
     "source": [
      "```\n",
      "if <condicion>\n",
      "    <haz esto si la condicion se cumple>\n",
      "elseif <condicion>\n",
      "    <haz esto si no>\n",
      "else \n",
      "    <haz esto si no se satisface ninguno de los anteriores>\n",
      "end\n",
      "```\n",
      "\n",
      "El `elseif` y el `else` son opcionales."
     ]
    },
    {
     "cell_type": "markdown",
     "metadata": {},
     "source": [
      "[4] Define una funci\u00f3n `fabs` que calcule el valor absoluto de un n\u00famero flotante. Checa con la funci\u00f3n predefinida `abs`."
     ]
    },
    {
     "cell_type": "code",
     "collapsed": false,
     "input": [
      "function fabs(a)\n",
      "    a<0 ? (a=-a) : (a=a)\n",
      "end\n",
      "\n",
      "\n",
      "        "
     ],
     "language": "python",
     "metadata": {},
     "outputs": [
      {
       "metadata": {},
       "output_type": "pyout",
       "prompt_number": 32,
       "text": [
        "fabs (generic function with 1 method)"
       ]
      }
     ],
     "prompt_number": 32
    },
    {
     "cell_type": "code",
     "collapsed": false,
     "input": [
      "fabs(-5)"
     ],
     "language": "python",
     "metadata": {},
     "outputs": [
      {
       "metadata": {},
       "output_type": "pyout",
       "prompt_number": 34,
       "text": [
        "5"
       ]
      }
     ],
     "prompt_number": 34
    },
    {
     "cell_type": "markdown",
     "metadata": {},
     "source": [
      "Otra notaci\u00f3n \u00fatil cuando las condiciones son cortas se usa el llamado *operador ternario* (as\u00ed llamado por contar con tres argumentos):  `condicion ? <haz esto si la condicion se cumple> : <si no, haz esto>`\n",
      "\n",
      "[5] Reescribe la funci\u00f3n `fabs` usando el operador ternario.\n"
     ]
    },
    {
     "cell_type": "code",
     "collapsed": false,
     "input": [
      "functio"
     ],
     "language": "python",
     "metadata": {},
     "outputs": []
    },
    {
     "cell_type": "heading",
     "level": 1,
     "metadata": {},
     "source": [
      "Recursi\u00f3n"
     ]
    },
    {
     "cell_type": "markdown",
     "metadata": {},
     "source": [
      "Ahora podemos hacer c\u00e1lculos \u00fatiles.\n",
      "\n",
      "Empecemos con el factorial. Recordemos que se define as\u00ed: $n! := 1 \\times 2 \\times \\cdots \\times n$."
     ]
    },
    {
     "cell_type": "code",
     "collapsed": false,
     "input": [
      "\n",
      "function fact(n)\n",
      "    (n > 1) ? (n*fact(n-1)) : 1\n",
      "end\n",
      "\n",
      "        "
     ],
     "language": "python",
     "metadata": {},
     "outputs": [
      {
       "metadata": {},
       "output_type": "pyout",
       "prompt_number": 41,
       "text": [
        "fact (generic function with 1 method)"
       ]
      }
     ],
     "prompt_number": 41
    },
    {
     "cell_type": "code",
     "collapsed": false,
     "input": [
      "fact(20)"
     ],
     "language": "python",
     "metadata": {},
     "outputs": [
      {
       "metadata": {},
       "output_type": "pyout",
       "prompt_number": 52,
       "text": [
        "2432902008176640000"
       ]
      }
     ],
     "prompt_number": 52
    },
    {
     "cell_type": "code",
     "collapsed": false,
     "input": [
      "function mi_exp(x,n)\n",
      "    i=1\n",
      "    a=0\n",
      "    \n",
      "    for i=1:n\n",
      "        a+=(1/factorial(i))*x^i\n",
      "    end\n",
      "    a+=1\n",
      "end\n",
      "\n",
      "    "
     ],
     "language": "python",
     "metadata": {},
     "outputs": [
      {
       "metadata": {},
       "output_type": "pyout",
       "prompt_number": 4,
       "text": [
        "mi_exp (generic function with 1 method)"
       ]
      }
     ],
     "prompt_number": 4
    },
    {
     "cell_type": "code",
     "collapsed": false,
     "input": [
      "mi_exp(2,20)-exp(2)\n"
     ],
     "language": "python",
     "metadata": {},
     "outputs": [
      {
       "metadata": {},
       "output_type": "pyout",
       "prompt_number": 14,
       "text": [
        "-4.618527782440651e-14"
       ]
      }
     ],
     "prompt_number": 14
    },
    {
     "cell_type": "code",
     "collapsed": false,
     "input": [
      "function mi_exp(x)\n",
      "    mi_exp(x,15)\n",
      "end"
     ],
     "language": "python",
     "metadata": {},
     "outputs": [
      {
       "metadata": {},
       "output_type": "pyout",
       "prompt_number": 15,
       "text": [
        "mi_exp (generic function with 2 methods)"
       ]
      }
     ],
     "prompt_number": 15
    },
    {
     "cell_type": "code",
     "collapsed": false,
     "input": [
      "methods(mi_exp)"
     ],
     "language": "python",
     "metadata": {},
     "outputs": [
      {
       "html": [
        "2 methods for generic function <b>mi_exp</b>:<ul><li> mi_exp(x,n) at In[4]:2<li> mi_exp(x) at In[15]:2</ul>"
       ],
       "metadata": {},
       "output_type": "pyout",
       "prompt_number": 16,
       "text": [
        "# 2 methods for generic function \"mi_exp\":\n",
        "mi_exp(x,n) at In[4]:2\n",
        "mi_exp(x) at In[15]:2"
       ]
      }
     ],
     "prompt_number": 16
    },
    {
     "cell_type": "markdown",
     "metadata": {},
     "source": [
      "[1] Piensa en tres formas distintas de que pudi\u00e9ramos hacer un algoritmo para calcular el factorial de un n\u00famero $n$. (No es necesario que los implementes; s\u00f3lo pensar en distintas formas de ver el problema.)\n",
      "\n",
      "[2] Define una funci\u00f3n `fact` que implementa una versi\u00f3n en la cual utilizamos *recursi\u00f3n*, es decir, que la funci\u00f3n `fact` *\u00a1llame a s\u00ed misma!*"
     ]
    },
    {
     "cell_type": "markdown",
     "metadata": {},
     "source": []
    },
    {
     "cell_type": "code",
     "collapsed": false,
     "input": [
      "methods(+)"
     ],
     "language": "python",
     "metadata": {},
     "outputs": [
      {
       "html": [
        "117 methods for generic function <b>+</b>:<ul><li> +(x::<b>Bool</b>) at <a href=\"https://github.com/JuliaLang/julia/tree/21d543397f83f8cd4c37859d17a26bb73dafc788/base/bool.jl#L36\" target=\"_blank\">bool.jl:36</a><li> +(x::<b>Bool</b>,y::<b>Bool</b>) at <a href=\"https://github.com/JuliaLang/julia/tree/21d543397f83f8cd4c37859d17a26bb73dafc788/base/bool.jl#L39\" target=\"_blank\">bool.jl:39</a><li> +(y::<b>FloatingPoint</b>,x::<b>Bool</b>) at <a href=\"https://github.com/JuliaLang/julia/tree/21d543397f83f8cd4c37859d17a26bb73dafc788/base/bool.jl#L49\" target=\"_blank\">bool.jl:49</a><li> +(A::<b>BitArray{N}</b>,B::<b>BitArray{N}</b>) at <a href=\"https://github.com/JuliaLang/julia/tree/21d543397f83f8cd4c37859d17a26bb73dafc788/base/bitarray.jl#L848\" target=\"_blank\">bitarray.jl:848</a><li> +(A::<b>Union(SubArray{Bool,N,A<:DenseArray{T,N},I<:(Union(Int64,Range{Int64})...,)},DenseArray{Bool,N})</b>,B::<b>Union(SubArray{Bool,N,A<:DenseArray{T,N},I<:(Union(Int64,Range{Int64})...,)},DenseArray{Bool,N})</b>) at <a href=\"https://github.com/JuliaLang/julia/tree/21d543397f83f8cd4c37859d17a26bb73dafc788/base/array.jl#L797\" target=\"_blank\">array.jl:797</a><li> +<i>{S,T}</i>(A::<b>Union(SubArray{S,N,A<:DenseArray{T,N},I<:(Union(Int64,Range{Int64})...,)},DenseArray{S,N})</b>,B::<b>Union(SubArray{T,N,A<:DenseArray{T,N},I<:(Union(Int64,Range{Int64})...,)},DenseArray{T,N})</b>) at <a href=\"https://github.com/JuliaLang/julia/tree/21d543397f83f8cd4c37859d17a26bb73dafc788/base/array.jl#L719\" target=\"_blank\">array.jl:719</a><li> +<i>{T<:Union(Int32,Int8,Int16)}</i>(x::<b>T<:Union(Int32,Int8,Int16)</b>,y::<b>T<:Union(Int32,Int8,Int16)</b>) at <a href=\"https://github.com/JuliaLang/julia/tree/21d543397f83f8cd4c37859d17a26bb73dafc788/base/int.jl#L16\" target=\"_blank\">int.jl:16</a><li> +<i>{T<:Union(Uint16,Uint8,Uint32)}</i>(x::<b>T<:Union(Uint16,Uint8,Uint32)</b>,y::<b>T<:Union(Uint16,Uint8,Uint32)</b>) at <a href=\"https://github.com/JuliaLang/julia/tree/21d543397f83f8cd4c37859d17a26bb73dafc788/base/int.jl#L20\" target=\"_blank\">int.jl:20</a><li> +(x::<b>Int64</b>,y::<b>Int64</b>) at <a href=\"https://github.com/JuliaLang/julia/tree/21d543397f83f8cd4c37859d17a26bb73dafc788/base/int.jl#L33\" target=\"_blank\">int.jl:33</a><li> +(x::<b>Uint64</b>,y::<b>Uint64</b>) at <a href=\"https://github.com/JuliaLang/julia/tree/21d543397f83f8cd4c37859d17a26bb73dafc788/base/int.jl#L34\" target=\"_blank\">int.jl:34</a><li> +(x::<b>Int128</b>,y::<b>Int128</b>) at <a href=\"https://github.com/JuliaLang/julia/tree/21d543397f83f8cd4c37859d17a26bb73dafc788/base/int.jl#L35\" target=\"_blank\">int.jl:35</a><li> +(x::<b>Uint128</b>,y::<b>Uint128</b>) at <a href=\"https://github.com/JuliaLang/julia/tree/21d543397f83f8cd4c37859d17a26bb73dafc788/base/int.jl#L36\" target=\"_blank\">int.jl:36</a><li> +(x::<b>Float32</b>,y::<b>Float32</b>) at <a href=\"https://github.com/JuliaLang/julia/tree/21d543397f83f8cd4c37859d17a26bb73dafc788/base/float.jl#L119\" target=\"_blank\">float.jl:119</a><li> +(x::<b>Float64</b>,y::<b>Float64</b>) at <a href=\"https://github.com/JuliaLang/julia/tree/21d543397f83f8cd4c37859d17a26bb73dafc788/base/float.jl#L120\" target=\"_blank\">float.jl:120</a><li> +(z::<b>Complex{T<:Real}</b>,w::<b>Complex{T<:Real}</b>) at <a href=\"https://github.com/JuliaLang/julia/tree/21d543397f83f8cd4c37859d17a26bb73dafc788/base/complex.jl#L110\" target=\"_blank\">complex.jl:110</a><li> +(x::<b>Real</b>,z::<b>Complex{T<:Real}</b>) at <a href=\"https://github.com/JuliaLang/julia/tree/21d543397f83f8cd4c37859d17a26bb73dafc788/base/complex.jl#L120\" target=\"_blank\">complex.jl:120</a><li> +(z::<b>Complex{T<:Real}</b>,x::<b>Real</b>) at <a href=\"https://github.com/JuliaLang/julia/tree/21d543397f83f8cd4c37859d17a26bb73dafc788/base/complex.jl#L121\" target=\"_blank\">complex.jl:121</a><li> +(x::<b>Rational{T<:Integer}</b>,y::<b>Rational{T<:Integer}</b>) at <a href=\"https://github.com/JuliaLang/julia/tree/21d543397f83f8cd4c37859d17a26bb73dafc788/base/rational.jl#L113\" target=\"_blank\">rational.jl:113</a><li> +(x::<b>Char</b>,y::<b>Char</b>) at <a href=\"https://github.com/JuliaLang/julia/tree/21d543397f83f8cd4c37859d17a26bb73dafc788/base/char.jl#L23\" target=\"_blank\">char.jl:23</a><li> +(x::<b>Char</b>,y::<b>Integer</b>) at <a href=\"https://github.com/JuliaLang/julia/tree/21d543397f83f8cd4c37859d17a26bb73dafc788/base/char.jl#L26\" target=\"_blank\">char.jl:26</a><li> +(x::<b>Integer</b>,y::<b>Char</b>) at <a href=\"https://github.com/JuliaLang/julia/tree/21d543397f83f8cd4c37859d17a26bb73dafc788/base/char.jl#L27\" target=\"_blank\">char.jl:27</a><li> +(a::<b>Float16</b>,b::<b>Float16</b>) at <a href=\"https://github.com/JuliaLang/julia/tree/21d543397f83f8cd4c37859d17a26bb73dafc788/base/float16.jl#L132\" target=\"_blank\">float16.jl:132</a><li> +(x::<b>BigInt</b>,y::<b>BigInt</b>) at <a href=\"https://github.com/JuliaLang/julia/tree/21d543397f83f8cd4c37859d17a26bb73dafc788/base/gmp.jl#L195\" target=\"_blank\">gmp.jl:195</a><li> +(a::<b>BigInt</b>,b::<b>BigInt</b>,c::<b>BigInt</b>) at <a href=\"https://github.com/JuliaLang/julia/tree/21d543397f83f8cd4c37859d17a26bb73dafc788/base/gmp.jl#L218\" target=\"_blank\">gmp.jl:218</a><li> +(a::<b>BigInt</b>,b::<b>BigInt</b>,c::<b>BigInt</b>,d::<b>BigInt</b>) at <a href=\"https://github.com/JuliaLang/julia/tree/21d543397f83f8cd4c37859d17a26bb73dafc788/base/gmp.jl#L224\" target=\"_blank\">gmp.jl:224</a><li> +(a::<b>BigInt</b>,b::<b>BigInt</b>,c::<b>BigInt</b>,d::<b>BigInt</b>,e::<b>BigInt</b>) at <a href=\"https://github.com/JuliaLang/julia/tree/21d543397f83f8cd4c37859d17a26bb73dafc788/base/gmp.jl#L231\" target=\"_blank\">gmp.jl:231</a><li> +(x::<b>BigInt</b>,c::<b>Union(Uint16,Uint64,Uint8,Uint32)</b>) at <a href=\"https://github.com/JuliaLang/julia/tree/21d543397f83f8cd4c37859d17a26bb73dafc788/base/gmp.jl#L243\" target=\"_blank\">gmp.jl:243</a><li> +(c::<b>Union(Uint16,Uint64,Uint8,Uint32)</b>,x::<b>BigInt</b>) at <a href=\"https://github.com/JuliaLang/julia/tree/21d543397f83f8cd4c37859d17a26bb73dafc788/base/gmp.jl#L247\" target=\"_blank\">gmp.jl:247</a><li> +(x::<b>BigInt</b>,c::<b>Union(Int64,Int32,Int8,Int16)</b>) at <a href=\"https://github.com/JuliaLang/julia/tree/21d543397f83f8cd4c37859d17a26bb73dafc788/base/gmp.jl#L259\" target=\"_blank\">gmp.jl:259</a><li> +(c::<b>Union(Int64,Int32,Int8,Int16)</b>,x::<b>BigInt</b>) at <a href=\"https://github.com/JuliaLang/julia/tree/21d543397f83f8cd4c37859d17a26bb73dafc788/base/gmp.jl#L260\" target=\"_blank\">gmp.jl:260</a><li> +(x::<b>BigFloat</b>,y::<b>BigFloat</b>) at <a href=\"https://github.com/JuliaLang/julia/tree/21d543397f83f8cd4c37859d17a26bb73dafc788/base/mpfr.jl#L149\" target=\"_blank\">mpfr.jl:149</a><li> +(x::<b>BigFloat</b>,c::<b>Union(Uint16,Uint64,Uint8,Uint32)</b>) at <a href=\"https://github.com/JuliaLang/julia/tree/21d543397f83f8cd4c37859d17a26bb73dafc788/base/mpfr.jl#L156\" target=\"_blank\">mpfr.jl:156</a><li> +(c::<b>Union(Uint16,Uint64,Uint8,Uint32)</b>,x::<b>BigFloat</b>) at <a href=\"https://github.com/JuliaLang/julia/tree/21d543397f83f8cd4c37859d17a26bb73dafc788/base/mpfr.jl#L160\" target=\"_blank\">mpfr.jl:160</a><li> +(x::<b>BigFloat</b>,c::<b>Union(Int64,Int32,Int8,Int16)</b>) at <a href=\"https://github.com/JuliaLang/julia/tree/21d543397f83f8cd4c37859d17a26bb73dafc788/base/mpfr.jl#L164\" target=\"_blank\">mpfr.jl:164</a><li> +(c::<b>Union(Int64,Int32,Int8,Int16)</b>,x::<b>BigFloat</b>) at <a href=\"https://github.com/JuliaLang/julia/tree/21d543397f83f8cd4c37859d17a26bb73dafc788/base/mpfr.jl#L168\" target=\"_blank\">mpfr.jl:168</a><li> +(x::<b>BigFloat</b>,c::<b>Union(Float16,Float32,Float64)</b>) at <a href=\"https://github.com/JuliaLang/julia/tree/21d543397f83f8cd4c37859d17a26bb73dafc788/base/mpfr.jl#L172\" target=\"_blank\">mpfr.jl:172</a><li> +(c::<b>Union(Float16,Float32,Float64)</b>,x::<b>BigFloat</b>) at <a href=\"https://github.com/JuliaLang/julia/tree/21d543397f83f8cd4c37859d17a26bb73dafc788/base/mpfr.jl#L176\" target=\"_blank\">mpfr.jl:176</a><li> +(x::<b>BigFloat</b>,c::<b>BigInt</b>) at <a href=\"https://github.com/JuliaLang/julia/tree/21d543397f83f8cd4c37859d17a26bb73dafc788/base/mpfr.jl#L180\" target=\"_blank\">mpfr.jl:180</a><li> +(c::<b>BigInt</b>,x::<b>BigFloat</b>) at <a href=\"https://github.com/JuliaLang/julia/tree/21d543397f83f8cd4c37859d17a26bb73dafc788/base/mpfr.jl#L184\" target=\"_blank\">mpfr.jl:184</a><li> +(a::<b>BigFloat</b>,b::<b>BigFloat</b>,c::<b>BigFloat</b>) at <a href=\"https://github.com/JuliaLang/julia/tree/21d543397f83f8cd4c37859d17a26bb73dafc788/base/mpfr.jl#L255\" target=\"_blank\">mpfr.jl:255</a><li> +(a::<b>BigFloat</b>,b::<b>BigFloat</b>,c::<b>BigFloat</b>,d::<b>BigFloat</b>) at <a href=\"https://github.com/JuliaLang/julia/tree/21d543397f83f8cd4c37859d17a26bb73dafc788/base/mpfr.jl#L261\" target=\"_blank\">mpfr.jl:261</a><li> +(a::<b>BigFloat</b>,b::<b>BigFloat</b>,c::<b>BigFloat</b>,d::<b>BigFloat</b>,e::<b>BigFloat</b>) at <a href=\"https://github.com/JuliaLang/julia/tree/21d543397f83f8cd4c37859d17a26bb73dafc788/base/mpfr.jl#L268\" target=\"_blank\">mpfr.jl:268</a><li> +(x::<b>MathConst{sym}</b>,y::<b>MathConst{sym}</b>) at <a href=\"https://github.com/JuliaLang/julia/tree/21d543397f83f8cd4c37859d17a26bb73dafc788/base/constants.jl#L23\" target=\"_blank\">constants.jl:23</a><li> +<i>{T<:Number}</i>(x::<b>T<:Number</b>,y::<b>T<:Number</b>) at <a href=\"https://github.com/JuliaLang/julia/tree/21d543397f83f8cd4c37859d17a26bb73dafc788/base/promotion.jl#L188\" target=\"_blank\">promotion.jl:188</a><li> +<i>{T<:FloatingPoint}</i>(x::<b>Bool</b>,y::<b>T<:FloatingPoint</b>) at <a href=\"https://github.com/JuliaLang/julia/tree/21d543397f83f8cd4c37859d17a26bb73dafc788/base/bool.jl#L46\" target=\"_blank\">bool.jl:46</a><li> +(x::<b>Number</b>,y::<b>Number</b>) at <a href=\"https://github.com/JuliaLang/julia/tree/21d543397f83f8cd4c37859d17a26bb73dafc788/base/promotion.jl#L158\" target=\"_blank\">promotion.jl:158</a><li> +(x::<b>Integer</b>,y::<b>Ptr{T}</b>) at <a href=\"https://github.com/JuliaLang/julia/tree/21d543397f83f8cd4c37859d17a26bb73dafc788/base/pointer.jl#L68\" target=\"_blank\">pointer.jl:68</a><li> +(x::<b>Bool</b>,A::<b>AbstractArray{Bool,N}</b>) at <a href=\"https://github.com/JuliaLang/julia/tree/21d543397f83f8cd4c37859d17a26bb73dafc788/base/array.jl#L767\" target=\"_blank\">array.jl:767</a><li> +(x::<b>Number</b>) at <a href=\"https://github.com/JuliaLang/julia/tree/21d543397f83f8cd4c37859d17a26bb73dafc788/base/operators.jl#L71\" target=\"_blank\">operators.jl:71</a><li> +(r1::<b>OrdinalRange{T,S}</b>,r2::<b>OrdinalRange{T,S}</b>) at <a href=\"https://github.com/JuliaLang/julia/tree/21d543397f83f8cd4c37859d17a26bb73dafc788/base/operators.jl#L325\" target=\"_blank\">operators.jl:325</a><li> +<i>{T<:FloatingPoint}</i>(r1::<b>FloatRange{T<:FloatingPoint}</b>,r2::<b>FloatRange{T<:FloatingPoint}</b>) at <a href=\"https://github.com/JuliaLang/julia/tree/21d543397f83f8cd4c37859d17a26bb73dafc788/base/operators.jl#L331\" target=\"_blank\">operators.jl:331</a><li> +(r1::<b>FloatRange{T<:FloatingPoint}</b>,r2::<b>FloatRange{T<:FloatingPoint}</b>) at <a href=\"https://github.com/JuliaLang/julia/tree/21d543397f83f8cd4c37859d17a26bb73dafc788/base/operators.jl#L348\" target=\"_blank\">operators.jl:348</a><li> +(r1::<b>FloatRange{T<:FloatingPoint}</b>,r2::<b>OrdinalRange{T,S}</b>) at <a href=\"https://github.com/JuliaLang/julia/tree/21d543397f83f8cd4c37859d17a26bb73dafc788/base/operators.jl#L349\" target=\"_blank\">operators.jl:349</a><li> +(r1::<b>OrdinalRange{T,S}</b>,r2::<b>FloatRange{T<:FloatingPoint}</b>) at <a href=\"https://github.com/JuliaLang/julia/tree/21d543397f83f8cd4c37859d17a26bb73dafc788/base/operators.jl#L350\" target=\"_blank\">operators.jl:350</a><li> +(x::<b>Ptr{T}</b>,y::<b>Integer</b>) at <a href=\"https://github.com/JuliaLang/julia/tree/21d543397f83f8cd4c37859d17a26bb73dafc788/base/pointer.jl#L66\" target=\"_blank\">pointer.jl:66</a><li> +<i>{S,T<:Real}</i>(A::<b>Union(SubArray{S,N,A<:DenseArray{T,N},I<:(Union(Int64,Range{Int64})...,)},DenseArray{S,N})</b>,B::<b>Range{T<:Real}</b>) at <a href=\"https://github.com/JuliaLang/julia/tree/21d543397f83f8cd4c37859d17a26bb73dafc788/base/array.jl#L727\" target=\"_blank\">array.jl:727</a><li> +<i>{S<:Real,T}</i>(A::<b>Range{S<:Real}</b>,B::<b>Union(SubArray{T,N,A<:DenseArray{T,N},I<:(Union(Int64,Range{Int64})...,)},DenseArray{T,N})</b>) at <a href=\"https://github.com/JuliaLang/julia/tree/21d543397f83f8cd4c37859d17a26bb73dafc788/base/array.jl#L736\" target=\"_blank\">array.jl:736</a><li> +(A::<b>AbstractArray{Bool,N}</b>,x::<b>Bool</b>) at <a href=\"https://github.com/JuliaLang/julia/tree/21d543397f83f8cd4c37859d17a26bb73dafc788/base/array.jl#L766\" target=\"_blank\">array.jl:766</a><li> +<i>{Tv,Ti}</i>(A::<b>SparseMatrixCSC{Tv,Ti}</b>,B::<b>SparseMatrixCSC{Tv,Ti}</b>) at <a href=\"https://github.com/JuliaLang/julia/tree/21d543397f83f8cd4c37859d17a26bb73dafc788/base/sparse/sparsematrix.jl#L540\" target=\"_blank\">sparse/sparsematrix.jl:540</a><li> +<i>{TvA,TiA,TvB,TiB}</i>(A::<b>SparseMatrixCSC{TvA,TiA}</b>,B::<b>SparseMatrixCSC{TvB,TiB}</b>) at <a href=\"https://github.com/JuliaLang/julia/tree/21d543397f83f8cd4c37859d17a26bb73dafc788/base/sparse/sparsematrix.jl#L532\" target=\"_blank\">sparse/sparsematrix.jl:532</a><li> +(A::<b>SparseMatrixCSC{Tv,Ti<:Integer}</b>,B::<b>Array{T,N}</b>) at <a href=\"https://github.com/JuliaLang/julia/tree/21d543397f83f8cd4c37859d17a26bb73dafc788/base/sparse/sparsematrix.jl#L631\" target=\"_blank\">sparse/sparsematrix.jl:631</a><li> +(A::<b>Array{T,N}</b>,B::<b>SparseMatrixCSC{Tv,Ti<:Integer}</b>) at <a href=\"https://github.com/JuliaLang/julia/tree/21d543397f83f8cd4c37859d17a26bb73dafc788/base/sparse/sparsematrix.jl#L633\" target=\"_blank\">sparse/sparsematrix.jl:633</a><li> +(A::<b>SymTridiagonal{T}</b>,B::<b>SymTridiagonal{T}</b>) at <a href=\"https://github.com/JuliaLang/julia/tree/21d543397f83f8cd4c37859d17a26bb73dafc788/base/linalg/tridiag.jl#L45\" target=\"_blank\">linalg/tridiag.jl:45</a><li> +(A::<b>Tridiagonal{T}</b>,B::<b>Tridiagonal{T}</b>) at <a href=\"https://github.com/JuliaLang/julia/tree/21d543397f83f8cd4c37859d17a26bb73dafc788/base/linalg/tridiag.jl#L225\" target=\"_blank\">linalg/tridiag.jl:225</a><li> +(A::<b>Tridiagonal{T}</b>,B::<b>SymTridiagonal{T}</b>) at <a href=\"https://github.com/JuliaLang/julia/tree/21d543397f83f8cd4c37859d17a26bb73dafc788/base/linalg/special.jl#L99\" target=\"_blank\">linalg/special.jl:99</a><li> +(A::<b>SymTridiagonal{T}</b>,B::<b>Tridiagonal{T}</b>) at <a href=\"https://github.com/JuliaLang/julia/tree/21d543397f83f8cd4c37859d17a26bb73dafc788/base/linalg/special.jl#L98\" target=\"_blank\">linalg/special.jl:98</a><li> +<i>{T,MT,uplo}</i>(A::<b>Triangular{T,MT,uplo,IsUnit}</b>,B::<b>Triangular{T,MT,uplo,IsUnit}</b>) at <a href=\"https://github.com/JuliaLang/julia/tree/21d543397f83f8cd4c37859d17a26bb73dafc788/base/linalg/triangular.jl#L11\" target=\"_blank\">linalg/triangular.jl:11</a><li> +<i>{T,MT,uplo1,uplo2}</i>(A::<b>Triangular{T,MT,uplo1,IsUnit}</b>,B::<b>Triangular{T,MT,uplo2,IsUnit}</b>) at <a href=\"https://github.com/JuliaLang/julia/tree/21d543397f83f8cd4c37859d17a26bb73dafc788/base/linalg/triangular.jl#L12\" target=\"_blank\">linalg/triangular.jl:12</a><li> +(Da::<b>Diagonal{T}</b>,Db::<b>Diagonal{T}</b>) at <a href=\"https://github.com/JuliaLang/julia/tree/21d543397f83f8cd4c37859d17a26bb73dafc788/base/linalg/diagonal.jl#L46\" target=\"_blank\">linalg/diagonal.jl:46</a><li> +(A::<b>Bidiagonal{T}</b>,B::<b>Bidiagonal{T}</b>) at <a href=\"https://github.com/JuliaLang/julia/tree/21d543397f83f8cd4c37859d17a26bb73dafc788/base/linalg/bidiag.jl#L92\" target=\"_blank\">linalg/bidiag.jl:92</a><li> +<i>{T}</i>(B::<b>BitArray{2}</b>,J::<b>UniformScaling{T}</b>) at <a href=\"https://github.com/JuliaLang/julia/tree/21d543397f83f8cd4c37859d17a26bb73dafc788/base/linalg/uniformscaling.jl#L26\" target=\"_blank\">linalg/uniformscaling.jl:26</a><li> +(A::<b>Diagonal{T}</b>,B::<b>Bidiagonal{T}</b>) at <a href=\"https://github.com/JuliaLang/julia/tree/21d543397f83f8cd4c37859d17a26bb73dafc788/base/linalg/special.jl#L89\" target=\"_blank\">linalg/special.jl:89</a><li> +(A::<b>Bidiagonal{T}</b>,B::<b>Diagonal{T}</b>) at <a href=\"https://github.com/JuliaLang/julia/tree/21d543397f83f8cd4c37859d17a26bb73dafc788/base/linalg/special.jl#L90\" target=\"_blank\">linalg/special.jl:90</a><li> +(A::<b>Diagonal{T}</b>,B::<b>Tridiagonal{T}</b>) at <a href=\"https://github.com/JuliaLang/julia/tree/21d543397f83f8cd4c37859d17a26bb73dafc788/base/linalg/special.jl#L89\" target=\"_blank\">linalg/special.jl:89</a><li> +(A::<b>Tridiagonal{T}</b>,B::<b>Diagonal{T}</b>) at <a href=\"https://github.com/JuliaLang/julia/tree/21d543397f83f8cd4c37859d17a26bb73dafc788/base/linalg/special.jl#L90\" target=\"_blank\">linalg/special.jl:90</a><li> +(A::<b>Diagonal{T}</b>,B::<b>Triangular{T,S<:AbstractArray{T,2},UpLo,IsUnit}</b>) at <a href=\"https://github.com/JuliaLang/julia/tree/21d543397f83f8cd4c37859d17a26bb73dafc788/base/linalg/special.jl#L89\" target=\"_blank\">linalg/special.jl:89</a><li> +(A::<b>Triangular{T,S<:AbstractArray{T,2},UpLo,IsUnit}</b>,B::<b>Diagonal{T}</b>) at <a href=\"https://github.com/JuliaLang/julia/tree/21d543397f83f8cd4c37859d17a26bb73dafc788/base/linalg/special.jl#L90\" target=\"_blank\">linalg/special.jl:90</a><li> +(A::<b>Diagonal{T}</b>,B::<b>Array{T,2}</b>) at <a href=\"https://github.com/JuliaLang/julia/tree/21d543397f83f8cd4c37859d17a26bb73dafc788/base/linalg/special.jl#L89\" target=\"_blank\">linalg/special.jl:89</a><li> +(A::<b>Array{T,2}</b>,B::<b>Diagonal{T}</b>) at <a href=\"https://github.com/JuliaLang/julia/tree/21d543397f83f8cd4c37859d17a26bb73dafc788/base/linalg/special.jl#L90\" target=\"_blank\">linalg/special.jl:90</a><li> +(A::<b>Bidiagonal{T}</b>,B::<b>Tridiagonal{T}</b>) at <a href=\"https://github.com/JuliaLang/julia/tree/21d543397f83f8cd4c37859d17a26bb73dafc788/base/linalg/special.jl#L89\" target=\"_blank\">linalg/special.jl:89</a><li> +(A::<b>Tridiagonal{T}</b>,B::<b>Bidiagonal{T}</b>) at <a href=\"https://github.com/JuliaLang/julia/tree/21d543397f83f8cd4c37859d17a26bb73dafc788/base/linalg/special.jl#L90\" target=\"_blank\">linalg/special.jl:90</a><li> +(A::<b>Bidiagonal{T}</b>,B::<b>Triangular{T,S<:AbstractArray{T,2},UpLo,IsUnit}</b>) at <a href=\"https://github.com/JuliaLang/julia/tree/21d543397f83f8cd4c37859d17a26bb73dafc788/base/linalg/special.jl#L89\" target=\"_blank\">linalg/special.jl:89</a><li> +(A::<b>Triangular{T,S<:AbstractArray{T,2},UpLo,IsUnit}</b>,B::<b>Bidiagonal{T}</b>) at <a href=\"https://github.com/JuliaLang/julia/tree/21d543397f83f8cd4c37859d17a26bb73dafc788/base/linalg/special.jl#L90\" target=\"_blank\">linalg/special.jl:90</a><li> +(A::<b>Bidiagonal{T}</b>,B::<b>Array{T,2}</b>) at <a href=\"https://github.com/JuliaLang/julia/tree/21d543397f83f8cd4c37859d17a26bb73dafc788/base/linalg/special.jl#L89\" target=\"_blank\">linalg/special.jl:89</a><li> +(A::<b>Array{T,2}</b>,B::<b>Bidiagonal{T}</b>) at <a href=\"https://github.com/JuliaLang/julia/tree/21d543397f83f8cd4c37859d17a26bb73dafc788/base/linalg/special.jl#L90\" target=\"_blank\">linalg/special.jl:90</a><li> +(A::<b>Tridiagonal{T}</b>,B::<b>Triangular{T,S<:AbstractArray{T,2},UpLo,IsUnit}</b>) at <a href=\"https://github.com/JuliaLang/julia/tree/21d543397f83f8cd4c37859d17a26bb73dafc788/base/linalg/special.jl#L89\" target=\"_blank\">linalg/special.jl:89</a><li> +(A::<b>Triangular{T,S<:AbstractArray{T,2},UpLo,IsUnit}</b>,B::<b>Tridiagonal{T}</b>) at <a href=\"https://github.com/JuliaLang/julia/tree/21d543397f83f8cd4c37859d17a26bb73dafc788/base/linalg/special.jl#L90\" target=\"_blank\">linalg/special.jl:90</a><li> +(A::<b>Tridiagonal{T}</b>,B::<b>Array{T,2}</b>) at <a href=\"https://github.com/JuliaLang/julia/tree/21d543397f83f8cd4c37859d17a26bb73dafc788/base/linalg/special.jl#L89\" target=\"_blank\">linalg/special.jl:89</a><li> +(A::<b>Array{T,2}</b>,B::<b>Tridiagonal{T}</b>) at <a href=\"https://github.com/JuliaLang/julia/tree/21d543397f83f8cd4c37859d17a26bb73dafc788/base/linalg/special.jl#L90\" target=\"_blank\">linalg/special.jl:90</a><li> +(A::<b>Triangular{T,S<:AbstractArray{T,2},UpLo,IsUnit}</b>,B::<b>Array{T,2}</b>) at <a href=\"https://github.com/JuliaLang/julia/tree/21d543397f83f8cd4c37859d17a26bb73dafc788/base/linalg/special.jl#L89\" target=\"_blank\">linalg/special.jl:89</a><li> +(A::<b>Array{T,2}</b>,B::<b>Triangular{T,S<:AbstractArray{T,2},UpLo,IsUnit}</b>) at <a href=\"https://github.com/JuliaLang/julia/tree/21d543397f83f8cd4c37859d17a26bb73dafc788/base/linalg/special.jl#L90\" target=\"_blank\">linalg/special.jl:90</a><li> +(A::<b>SymTridiagonal{T}</b>,B::<b>Triangular{T,S<:AbstractArray{T,2},UpLo,IsUnit}</b>) at <a href=\"https://github.com/JuliaLang/julia/tree/21d543397f83f8cd4c37859d17a26bb73dafc788/base/linalg/special.jl#L98\" target=\"_blank\">linalg/special.jl:98</a><li> +(A::<b>Triangular{T,S<:AbstractArray{T,2},UpLo,IsUnit}</b>,B::<b>SymTridiagonal{T}</b>) at <a href=\"https://github.com/JuliaLang/julia/tree/21d543397f83f8cd4c37859d17a26bb73dafc788/base/linalg/special.jl#L99\" target=\"_blank\">linalg/special.jl:99</a><li> +(A::<b>SymTridiagonal{T}</b>,B::<b>Array{T,2}</b>) at <a href=\"https://github.com/JuliaLang/julia/tree/21d543397f83f8cd4c37859d17a26bb73dafc788/base/linalg/special.jl#L98\" target=\"_blank\">linalg/special.jl:98</a><li> +(A::<b>Array{T,2}</b>,B::<b>SymTridiagonal{T}</b>) at <a href=\"https://github.com/JuliaLang/julia/tree/21d543397f83f8cd4c37859d17a26bb73dafc788/base/linalg/special.jl#L99\" target=\"_blank\">linalg/special.jl:99</a><li> +(A::<b>Diagonal{T}</b>,B::<b>SymTridiagonal{T}</b>) at <a href=\"https://github.com/JuliaLang/julia/tree/21d543397f83f8cd4c37859d17a26bb73dafc788/base/linalg/special.jl#L107\" target=\"_blank\">linalg/special.jl:107</a><li> +(A::<b>SymTridiagonal{T}</b>,B::<b>Diagonal{T}</b>) at <a href=\"https://github.com/JuliaLang/julia/tree/21d543397f83f8cd4c37859d17a26bb73dafc788/base/linalg/special.jl#L108\" target=\"_blank\">linalg/special.jl:108</a><li> +(A::<b>Bidiagonal{T}</b>,B::<b>SymTridiagonal{T}</b>) at <a href=\"https://github.com/JuliaLang/julia/tree/21d543397f83f8cd4c37859d17a26bb73dafc788/base/linalg/special.jl#L107\" target=\"_blank\">linalg/special.jl:107</a><li> +(A::<b>SymTridiagonal{T}</b>,B::<b>Bidiagonal{T}</b>) at <a href=\"https://github.com/JuliaLang/julia/tree/21d543397f83f8cd4c37859d17a26bb73dafc788/base/linalg/special.jl#L108\" target=\"_blank\">linalg/special.jl:108</a><li> +<i>{T<:Number}</i>(x::<b>AbstractArray{T<:Number,N}</b>) at <a href=\"https://github.com/JuliaLang/julia/tree/21d543397f83f8cd4c37859d17a26bb73dafc788/base/abstractarray.jl#L362\" target=\"_blank\">abstractarray.jl:362</a><li> +(A::<b>AbstractArray{T,N}</b>,x::<b>Number</b>) at <a href=\"https://github.com/JuliaLang/julia/tree/21d543397f83f8cd4c37859d17a26bb73dafc788/base/array.jl#L770\" target=\"_blank\">array.jl:770</a><li> +(x::<b>Number</b>,A::<b>AbstractArray{T,N}</b>) at <a href=\"https://github.com/JuliaLang/julia/tree/21d543397f83f8cd4c37859d17a26bb73dafc788/base/array.jl#L771\" target=\"_blank\">array.jl:771</a><li> +(J1::<b>UniformScaling{T<:Number}</b>,J2::<b>UniformScaling{T<:Number}</b>) at <a href=\"https://github.com/JuliaLang/julia/tree/21d543397f83f8cd4c37859d17a26bb73dafc788/base/linalg/uniformscaling.jl#L25\" target=\"_blank\">linalg/uniformscaling.jl:25</a><li> +(J::<b>UniformScaling{T<:Number}</b>,B::<b>BitArray{2}</b>) at <a href=\"https://github.com/JuliaLang/julia/tree/21d543397f83f8cd4c37859d17a26bb73dafc788/base/linalg/uniformscaling.jl#L27\" target=\"_blank\">linalg/uniformscaling.jl:27</a><li> +(J::<b>UniformScaling{T<:Number}</b>,A::<b>AbstractArray{T,2}</b>) at <a href=\"https://github.com/JuliaLang/julia/tree/21d543397f83f8cd4c37859d17a26bb73dafc788/base/linalg/uniformscaling.jl#L28\" target=\"_blank\">linalg/uniformscaling.jl:28</a><li> +(J::<b>UniformScaling{T<:Number}</b>,x::<b>Number</b>) at <a href=\"https://github.com/JuliaLang/julia/tree/21d543397f83f8cd4c37859d17a26bb73dafc788/base/linalg/uniformscaling.jl#L29\" target=\"_blank\">linalg/uniformscaling.jl:29</a><li> +(x::<b>Number</b>,J::<b>UniformScaling{T<:Number}</b>) at <a href=\"https://github.com/JuliaLang/julia/tree/21d543397f83f8cd4c37859d17a26bb73dafc788/base/linalg/uniformscaling.jl#L30\" target=\"_blank\">linalg/uniformscaling.jl:30</a><li> +<i>{TA,TJ}</i>(A::<b>AbstractArray{TA,2}</b>,J::<b>UniformScaling{TJ}</b>) at <a href=\"https://github.com/JuliaLang/julia/tree/21d543397f83f8cd4c37859d17a26bb73dafc788/base/linalg/uniformscaling.jl#L33\" target=\"_blank\">linalg/uniformscaling.jl:33</a><li> +<i>{T}</i>(a::<b>HierarchicalValue{T}</b>,b::<b>HierarchicalValue{T}</b>) at <a href=\"https://github.com/JuliaLang/julia/tree/21d543397f83f8cd4c37859d17a26bb73dafc788/base/pkg/resolve/versionweight.jl#L19\" target=\"_blank\">pkg/resolve/versionweight.jl:19</a><li> +(a::<b>VWPreBuildItem</b>,b::<b>VWPreBuildItem</b>) at <a href=\"https://github.com/JuliaLang/julia/tree/21d543397f83f8cd4c37859d17a26bb73dafc788/base/pkg/resolve/versionweight.jl#L82\" target=\"_blank\">pkg/resolve/versionweight.jl:82</a><li> +(a::<b>VWPreBuild</b>,b::<b>VWPreBuild</b>) at <a href=\"https://github.com/JuliaLang/julia/tree/21d543397f83f8cd4c37859d17a26bb73dafc788/base/pkg/resolve/versionweight.jl#L120\" target=\"_blank\">pkg/resolve/versionweight.jl:120</a><li> +(a::<b>VersionWeight</b>,b::<b>VersionWeight</b>) at <a href=\"https://github.com/JuliaLang/julia/tree/21d543397f83f8cd4c37859d17a26bb73dafc788/base/pkg/resolve/versionweight.jl#L164\" target=\"_blank\">pkg/resolve/versionweight.jl:164</a><li> +(a::<b>FieldValue</b>,b::<b>FieldValue</b>) at <a href=\"https://github.com/JuliaLang/julia/tree/21d543397f83f8cd4c37859d17a26bb73dafc788/base/pkg/resolve/fieldvalue.jl#L41\" target=\"_blank\">pkg/resolve/fieldvalue.jl:41</a><li> +(a::<b>Vec2</b>,b::<b>Vec2</b>) at <a href=\"https://github.com/JuliaLang/julia/tree/21d543397f83f8cd4c37859d17a26bb73dafc788/base/graphics.jl#L60\" target=\"_blank\">graphics.jl:60</a><li> +(bb1::<b>BoundingBox</b>,bb2::<b>BoundingBox</b>) at <a href=\"https://github.com/JuliaLang/julia/tree/21d543397f83f8cd4c37859d17a26bb73dafc788/base/graphics.jl#L123\" target=\"_blank\">graphics.jl:123</a><li> +(a,b,c) at <a href=\"https://github.com/JuliaLang/julia/tree/21d543397f83f8cd4c37859d17a26bb73dafc788/base/operators.jl#L82\" target=\"_blank\">operators.jl:82</a><li> +(a,b,c,xs...) at <a href=\"https://github.com/JuliaLang/julia/tree/21d543397f83f8cd4c37859d17a26bb73dafc788/base/operators.jl#L83\" target=\"_blank\">operators.jl:83</a></ul>"
       ],
       "metadata": {},
       "output_type": "pyout",
       "prompt_number": 17,
       "text": [
        "# 117 methods for generic function \"+\":\n",
        "+(x::Bool) at bool.jl:36\n",
        "+(x::Bool,y::Bool) at bool.jl:39\n",
        "+(y::FloatingPoint,x::Bool) at bool.jl:49\n",
        "+(A::BitArray{N},B::BitArray{N}) at bitarray.jl:848\n",
        "+(A::Union(SubArray{Bool,N,A<:DenseArray{T,N},I<:(Union(Int64,Range{Int64})...,)},DenseArray{Bool,N}),B::Union(SubArray{Bool,N,A<:DenseArray{T,N},I<:(Union(Int64,Range{Int64})...,)},DenseArray{Bool,N})) at array.jl:797\n",
        "+{S,T}(A::Union(SubArray{S,N,A<:DenseArray{T,N},I<:(Union(Int64,Range{Int64})...,)},DenseArray{S,N}),B::Union(SubArray{T,N,A<:DenseArray{T,N},I<:(Union(Int64,Range{Int64})...,)},DenseArray{T,N})) at array.jl:719\n",
        "+{T<:Union(Int32,Int8,Int16)}(x::T<:Union(Int32,Int8,Int16),y::T<:Union(Int32,Int8,Int16)) at int.jl:16\n",
        "+{T<:Union(Uint16,Uint8,Uint32)}(x::T<:Union(Uint16,Uint8,Uint32),y::T<:Union(Uint16,Uint8,Uint32)) at int.jl:20\n",
        "+(x::Int64,y::Int64) at int.jl:33\n",
        "+(x::Uint64,y::Uint64) at int.jl:34\n",
        "+(x::Int128,y::Int128) at int.jl:35\n",
        "+(x::Uint128,y::Uint128) at int.jl:36\n",
        "+(x::Float32,y::Float32) at float.jl:119\n",
        "+(x::Float64,y::Float64) at float.jl:120\n",
        "+(z::Complex{T<:Real},w::Complex{T<:Real}) at complex.jl:110\n",
        "+(x::Real,z::Complex{T<:Real}) at complex.jl:120\n",
        "+(z::Complex{T<:Real},x::Real) at complex.jl:121\n",
        "+(x::Rational{T<:Integer},y::Rational{T<:Integer}) at rational.jl:113\n",
        "+(x::Char,y::Char) at char.jl:23\n",
        "+(x::Char,y::Integer) at char.jl:26\n",
        "+(x::Integer,y::Char) at char.jl:27\n",
        "+(a::Float16,b::Float16) at float16.jl:132\n",
        "+(x::BigInt,y::BigInt) at gmp.jl:195\n",
        "+(a::BigInt,b::BigInt,c::BigInt) at gmp.jl:218\n",
        "+(a::BigInt,b::BigInt,c::BigInt,d::BigInt) at gmp.jl:224\n",
        "+(a::BigInt,b::BigInt,c::BigInt,d::BigInt,e::BigInt) at gmp.jl:231\n",
        "+(x::BigInt,c::Union(Uint16,Uint64,Uint8,Uint32)) at gmp.jl:243\n",
        "+(c::Union(Uint16,Uint64,Uint8,Uint32),x::BigInt) at gmp.jl:247\n",
        "+(x::BigInt,c::Union(Int64,Int32,Int8,Int16)) at gmp.jl:259\n",
        "+(c::Union(Int64,Int32,Int8,Int16),x::BigInt) at gmp.jl:260\n",
        "+(x::BigFloat,y::BigFloat) at mpfr.jl:149\n",
        "+(x::BigFloat,c::Union(Uint16,Uint64,Uint8,Uint32)) at mpfr.jl:156\n",
        "+(c::Union(Uint16,Uint64,Uint8,Uint32),x::BigFloat) at mpfr.jl:160\n",
        "+(x::BigFloat,c::Union(Int64,Int32,Int8,Int16)) at mpfr.jl:164\n",
        "+(c::Union(Int64,Int32,Int8,Int16),x::BigFloat) at mpfr.jl:168\n",
        "+(x::BigFloat,c::Union(Float16,Float32,Float64)) at mpfr.jl:172\n",
        "+(c::Union(Float16,Float32,Float64),x::BigFloat) at mpfr.jl:176\n",
        "+(x::BigFloat,c::BigInt) at mpfr.jl:180\n",
        "+(c::BigInt,x::BigFloat) at mpfr.jl:184\n",
        "+(a::BigFloat,b::BigFloat,c::BigFloat) at mpfr.jl:255\n",
        "+(a::BigFloat,b::BigFloat,c::BigFloat,d::BigFloat) at mpfr.jl:261\n",
        "+(a::BigFloat,b::BigFloat,c::BigFloat,d::BigFloat,e::BigFloat) at mpfr.jl:268\n",
        "+(x::MathConst{sym},y::MathConst{sym}) at constants.jl:23\n",
        "+{T<:Number}(x::T<:Number,y::T<:Number) at promotion.jl:188\n",
        "+{T<:FloatingPoint}(x::Bool,y::T<:FloatingPoint) at bool.jl:46\n",
        "+(x::Number,y::Number) at promotion.jl:158\n",
        "+(x::Integer,y::Ptr{T}) at pointer.jl:68\n",
        "+(x::Bool,A::AbstractArray{Bool,N}) at array.jl:767\n",
        "+(x::Number) at operators.jl:71\n",
        "+(r1::OrdinalRange{T,S},r2::OrdinalRange{T,S}) at operators.jl:325\n",
        "+{T<:FloatingPoint}(r1::FloatRange{T<:FloatingPoint},r2::FloatRange{T<:FloatingPoint}) at operators.jl:331\n",
        "+(r1::FloatRange{T<:FloatingPoint},r2::FloatRange{T<:FloatingPoint}) at operators.jl:348\n",
        "+(r1::FloatRange{T<:FloatingPoint},r2::OrdinalRange{T,S}) at operators.jl:349\n",
        "+(r1::OrdinalRange{T,S},r2::FloatRange{T<:FloatingPoint}) at operators.jl:350\n",
        "+(x::Ptr{T},y::Integer) at pointer.jl:66\n",
        "+{S,T<:Real}(A::Union(SubArray{S,N,A<:DenseArray{T,N},I<:(Union(Int64,Range{Int64})...,)},DenseArray{S,N}),B::Range{T<:Real}) at array.jl:727\n",
        "+{S<:Real,T}(A::Range{S<:Real},B::Union(SubArray{T,N,A<:DenseArray{T,N},I<:(Union(Int64,Range{Int64})...,)},DenseArray{T,N})) at array.jl:736\n",
        "+(A::AbstractArray{Bool,N},x::Bool) at array.jl:766\n",
        "+{Tv,Ti}(A::SparseMatrixCSC{Tv,Ti},B::SparseMatrixCSC{Tv,Ti}) at sparse/sparsematrix.jl:540\n",
        "+{TvA,TiA,TvB,TiB}(A::SparseMatrixCSC{TvA,TiA},B::SparseMatrixCSC{TvB,TiB}) at sparse/sparsematrix.jl:532\n",
        "+(A::SparseMatrixCSC{Tv,Ti<:Integer},B::Array{T,N}) at sparse/sparsematrix.jl:631\n",
        "+(A::Array{T,N},B::SparseMatrixCSC{Tv,Ti<:Integer}) at sparse/sparsematrix.jl:633\n",
        "+(A::SymTridiagonal{T},B::SymTridiagonal{T}) at linalg/tridiag.jl:45\n",
        "+(A::Tridiagonal{T},B::Tridiagonal{T}) at linalg/tridiag.jl:225\n",
        "+(A::Tridiagonal{T},B::SymTridiagonal{T}) at linalg/special.jl:99\n",
        "+(A::SymTridiagonal{T},B::Tridiagonal{T}) at linalg/special.jl:98\n",
        "+{T,MT,uplo}(A::Triangular{T,MT,uplo,IsUnit},B::Triangular{T,MT,uplo,IsUnit}) at linalg/triangular.jl:11\n",
        "+{T,MT,uplo1,uplo2}(A::Triangular{T,MT,uplo1,IsUnit},B::Triangular{T,MT,uplo2,IsUnit}) at linalg/triangular.jl:12\n",
        "+(Da::Diagonal{T},Db::Diagonal{T}) at linalg/diagonal.jl:46\n",
        "+(A::Bidiagonal{T},B::Bidiagonal{T}) at linalg/bidiag.jl:92\n",
        "+{T}(B::BitArray{2},J::UniformScaling{T}) at linalg/uniformscaling.jl:26\n",
        "+(A::Diagonal{T},B::Bidiagonal{T}) at linalg/special.jl:89\n",
        "+(A::Bidiagonal{T},B::Diagonal{T}) at linalg/special.jl:90\n",
        "+(A::Diagonal{T},B::Tridiagonal{T}) at linalg/special.jl:89\n",
        "+(A::Tridiagonal{T},B::Diagonal{T}) at linalg/special.jl:90\n",
        "+(A::Diagonal{T},B::Triangular{T,S<:AbstractArray{T,2},UpLo,IsUnit}) at linalg/special.jl:89\n",
        "+(A::Triangular{T,S<:AbstractArray{T,2},UpLo,IsUnit},B::Diagonal{T}) at linalg/special.jl:90\n",
        "+(A::Diagonal{T},B::Array{T,2}) at linalg/special.jl:89\n",
        "+(A::Array{T,2},B::Diagonal{T}) at linalg/special.jl:90\n",
        "+(A::Bidiagonal{T},B::Tridiagonal{T}) at linalg/special.jl:89\n",
        "+(A::Tridiagonal{T},B::Bidiagonal{T}) at linalg/special.jl:90\n",
        "+(A::Bidiagonal{T},B::Triangular{T,S<:AbstractArray{T,2},UpLo,IsUnit}) at linalg/special.jl:89\n",
        "+(A::Triangular{T,S<:AbstractArray{T,2},UpLo,IsUnit},B::Bidiagonal{T}) at linalg/special.jl:90\n",
        "+(A::Bidiagonal{T},B::Array{T,2}) at linalg/special.jl:89\n",
        "+(A::Array{T,2},B::Bidiagonal{T}) at linalg/special.jl:90\n",
        "+(A::Tridiagonal{T},B::Triangular{T,S<:AbstractArray{T,2},UpLo,IsUnit}) at linalg/special.jl:89\n",
        "+(A::Triangular{T,S<:AbstractArray{T,2},UpLo,IsUnit},B::Tridiagonal{T}) at linalg/special.jl:90\n",
        "+(A::Tridiagonal{T},B::Array{T,2}) at linalg/special.jl:89\n",
        "+(A::Array{T,2},B::Tridiagonal{T}) at linalg/special.jl:90\n",
        "+(A::Triangular{T,S<:AbstractArray{T,2},UpLo,IsUnit},B::Array{T,2}) at linalg/special.jl:89\n",
        "+(A::Array{T,2},B::Triangular{T,S<:AbstractArray{T,2},UpLo,IsUnit}) at linalg/special.jl:90\n",
        "+(A::SymTridiagonal{T},B::Triangular{T,S<:AbstractArray{T,2},UpLo,IsUnit}) at linalg/special.jl:98\n",
        "+(A::Triangular{T,S<:AbstractArray{T,2},UpLo,IsUnit},B::SymTridiagonal{T}) at linalg/special.jl:99\n",
        "+(A::SymTridiagonal{T},B::Array{T,2}) at linalg/special.jl:98\n",
        "+(A::Array{T,2},B::SymTridiagonal{T}) at linalg/special.jl:99\n",
        "+(A::Diagonal{T},B::SymTridiagonal{T}) at linalg/special.jl:107\n",
        "+(A::SymTridiagonal{T},B::Diagonal{T}) at linalg/special.jl:108\n",
        "+(A::Bidiagonal{T},B::SymTridiagonal{T}) at linalg/special.jl:107\n",
        "+(A::SymTridiagonal{T},B::Bidiagonal{T}) at linalg/special.jl:108\n",
        "+{T<:Number}(x::AbstractArray{T<:Number,N}) at abstractarray.jl:362\n",
        "+(A::AbstractArray{T,N},x::Number) at array.jl:770\n",
        "+(x::Number,A::AbstractArray{T,N}) at array.jl:771\n",
        "+(J1::UniformScaling{T<:Number},J2::UniformScaling{T<:Number}) at linalg/uniformscaling.jl:25\n",
        "+(J::UniformScaling{T<:Number},B::BitArray{2}) at linalg/uniformscaling.jl:27\n",
        "+(J::UniformScaling{T<:Number},A::AbstractArray{T,2}) at linalg/uniformscaling.jl:28\n",
        "+(J::UniformScaling{T<:Number},x::Number) at linalg/uniformscaling.jl:29\n",
        "+(x::Number,J::UniformScaling{T<:Number}) at linalg/uniformscaling.jl:30\n",
        "+{TA,TJ}(A::AbstractArray{TA,2},J::UniformScaling{TJ}) at linalg/uniformscaling.jl:33\n",
        "+{T}(a::HierarchicalValue{T},b::HierarchicalValue{T}) at pkg/resolve/versionweight.jl:19\n",
        "+(a::VWPreBuildItem,b::VWPreBuildItem) at pkg/resolve/versionweight.jl:82\n",
        "+(a::VWPreBuild,b::VWPreBuild) at pkg/resolve/versionweight.jl:120\n",
        "+(a::VersionWeight,b::VersionWeight) at pkg/resolve/versionweight.jl:164\n",
        "+(a::FieldValue,b::FieldValue) at pkg/resolve/fieldvalue.jl:41\n",
        "+(a::Vec2,b::Vec2) at graphics.jl:60\n",
        "+(bb1::BoundingBox,bb2::BoundingBox) at graphics.jl:123\n",
        "+(a,b,c) at operators.jl:82\n",
        "+(a,b,c,xs...) at operators.jl:83"
       ]
      }
     ],
     "prompt_number": 17
    },
    {
     "cell_type": "markdown",
     "metadata": {},
     "source": [
      "[3] Utiliza estas ideas para definir una funci\u00f3n `mi_exp` que calcule el exponencial de un n\u00famero $x$, usando la serie de Taylor de la funci\u00f3n, y *usando recursi\u00f3n*. Define otra funci\u00f3n que compare tu resultado con la funci\u00f3n predefinida `exp`."
     ]
    },
    {
     "cell_type": "code",
     "collapsed": false,
     "input": [
      "function mi_exp2(x,n=10)\n",
      "    i=1\n",
      "    a=0\n",
      "    \n",
      "    for i=1:n\n",
      "        a+=(1/factorial(i))*x^i\n",
      "    end\n",
      "    a+=1\n",
      "end\n"
     ],
     "language": "python",
     "metadata": {},
     "outputs": [
      {
       "metadata": {},
       "output_type": "pyout",
       "prompt_number": 19,
       "text": [
        "mi_exp2 (generic function with 2 methods)"
       ]
      }
     ],
     "prompt_number": 19
    },
    {
     "cell_type": "code",
     "collapsed": false,
     "input": [
      "mi_exp2(10,3)\n",
      "\n",
      "exp(10)"
     ],
     "language": "python",
     "metadata": {},
     "outputs": [
      {
       "metadata": {},
       "output_type": "pyout",
       "prompt_number": 22,
       "text": [
        "22026.465794806718"
       ]
      }
     ],
     "prompt_number": 22
    },
    {
     "cell_type": "heading",
     "level": 1,
     "metadata": {},
     "source": [
      "M\u00e9todos"
     ]
    },
    {
     "cell_type": "markdown",
     "metadata": {},
     "source": [
      "En el problema anterior, ten\u00edas que definir una funci\u00f3n que aceptara dos argumentos, el valor de $x$ y el orden $n$ de la serie de Taylor.\n",
      "\n",
      "[4] Ahora define otra funci\u00f3n con el *mismo* nombre, que llame a la funci\u00f3n anterior, con un valor fijo, m\u00e1s o menos grande, de $n$.\n",
      "\n",
      "[5] Usa la funci\u00f3n `methods` con el nombre de la funci\u00f3n como argumento. Deber\u00edas ver los dos m\u00e9todos que has creado, y d\u00f3nde se han definido. Esto se puede hacer para cualquier funci\u00f3n en Julia, incluyendo los operadores matem\u00e1ticos.\n",
      "\n",
      "[6] Investiga como ejemplo los m\u00e9todos de `+`.\n",
      "\n",
      "En Julia, una *funci\u00f3n* consiste en muchos *m\u00e9todos* que sirven para actuar sobre distintos tipos y/o distintos n\u00fameros de argumentos. \n"
     ]
    },
    {
     "cell_type": "heading",
     "level": 2,
     "metadata": {},
     "source": [
      "Argumentos por defecto"
     ]
    },
    {
     "cell_type": "markdown",
     "metadata": {},
     "source": [
      "De hecho, tambi\u00e9n es posible especificar argumentos *por defecto*, poniendo `<variable>=<valor>` en la definici\u00f3n de la funci\u00f3n.\n",
      "\n",
      "[7] Define otra versi\u00f3n de `mi_exp` con un argumento por defecto, y checa que s\u00ed sirve cuando no se especifica este argumento."
     ]
    }
   ],
   "metadata": {}
  }
 ]
}